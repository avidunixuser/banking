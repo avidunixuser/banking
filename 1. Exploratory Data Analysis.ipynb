{
 "cells": [
  {
   "cell_type": "code",
   "execution_count": null,
   "id": "70b71dbc",
   "metadata": {},
   "outputs": [],
   "source": [
    "import pandas as pd\n",
    "import numpy as np\n",
    "import matplotlib.pyplot as plt\n",
    "import seaborn as sns\n",
    "import warnings\n",
    "warnings.filterwarnings('ignore')\n",
    "from sklearn import set_config\n",
    "set_config(display=\"diagram\")"
   ]
  },
  {
   "cell_type": "code",
   "execution_count": null,
   "id": "4266ef97",
   "metadata": {},
   "outputs": [],
   "source": [
    "from sklearn.datasets import load_digits\n",
    "from sklearn.svm import SVC\n",
    "import time\n",
    "from sklearn.model_selection import StratifiedShuffleSplit\n",
    "from sklearn.model_selection import GridSearchCV\n",
    "from sklearn.metrics import f1_score, accuracy_score, roc_auc_score, make_scorer\n",
    "from sklearn.metrics import confusion_matrix, classification_report, precision_recall_curve\n",
    "from sklearn.metrics import make_scorer\n",
    "from sklearn.metrics import accuracy_score\n",
    "from sklearn.tree import DecisionTreeClassifier\n",
    "from sklearn.linear_model import LogisticRegression\n",
    "from sklearn.neighbors import KNeighborsClassifier\n",
    "from sklearn.model_selection import train_test_split"
   ]
  },
  {
   "cell_type": "code",
   "execution_count": null,
   "id": "eb9c5fae",
   "metadata": {},
   "outputs": [],
   "source": [
    "#loading the dataset\n",
    "data = pd.read_csv(\"data/bank_full_raw.csv\", sep = ';')"
   ]
  },
  {
   "cell_type": "code",
   "execution_count": null,
   "id": "2bb1cd8e",
   "metadata": {},
   "outputs": [],
   "source": [
    "#Display of column name and data type\n",
    "data.info()"
   ]
  },
  {
   "cell_type": "code",
   "execution_count": null,
   "id": "e61d5c13",
   "metadata": {},
   "outputs": [],
   "source": [
    "data.count()"
   ]
  },
  {
   "cell_type": "code",
   "execution_count": null,
   "id": "d9264b53",
   "metadata": {},
   "outputs": [],
   "source": [
    "data.head(10)"
   ]
  },
  {
   "cell_type": "code",
   "execution_count": null,
   "id": "dd030174",
   "metadata": {},
   "outputs": [],
   "source": [
    "#Removal of rows & columns with NaN/Null values and duplicates\n",
    "data.dropna()\n",
    "data.drop_duplicates()\n",
    "data.count()"
   ]
  },
  {
   "cell_type": "code",
   "execution_count": null,
   "id": "c96c2fe1",
   "metadata": {},
   "outputs": [],
   "source": [
    "df = data\n",
    "df = df.replace('yes','1')\n",
    "df = df.replace('no','0')\n",
    "df[['default', 'loan', 'housing', 'y']] = df[['default', 'loan', 'housing', 'y']].astype(int)"
   ]
  },
  {
   "cell_type": "code",
   "execution_count": null,
   "id": "70cc4283",
   "metadata": {},
   "outputs": [],
   "source": [
    "df.info()"
   ]
  },
  {
   "cell_type": "code",
   "execution_count": null,
   "id": "c46ccf7f",
   "metadata": {},
   "outputs": [],
   "source": [
    "print(df[df.columns[df.isna().any()]].sum())"
   ]
  },
  {
   "cell_type": "code",
   "execution_count": null,
   "id": "91963d86",
   "metadata": {},
   "outputs": [],
   "source": [
    "df.groupby(\"month\").count()"
   ]
  },
  {
   "cell_type": "code",
   "execution_count": null,
   "id": "f507e305",
   "metadata": {},
   "outputs": [],
   "source": [
    "data.groupby(\"job\").count()"
   ]
  },
  {
   "cell_type": "code",
   "execution_count": null,
   "id": "ece44bf4",
   "metadata": {},
   "outputs": [],
   "source": [
    "data.groupby(\"marital\").count()"
   ]
  },
  {
   "cell_type": "code",
   "execution_count": null,
   "id": "563d8044",
   "metadata": {},
   "outputs": [],
   "source": [
    "data.groupby(\"education\").count()"
   ]
  },
  {
   "cell_type": "code",
   "execution_count": null,
   "id": "64528103",
   "metadata": {},
   "outputs": [],
   "source": [
    "data.groupby(\"housing\").count()"
   ]
  },
  {
   "cell_type": "code",
   "execution_count": null,
   "id": "3e4cbfde",
   "metadata": {},
   "outputs": [],
   "source": [
    "data.groupby(\"loan\").count()"
   ]
  },
  {
   "cell_type": "code",
   "execution_count": null,
   "id": "1a4c7a47",
   "metadata": {},
   "outputs": [],
   "source": [
    "data.groupby(\"contact\").count()"
   ]
  },
  {
   "cell_type": "code",
   "execution_count": null,
   "id": "6f2e566e",
   "metadata": {},
   "outputs": [],
   "source": [
    "data.groupby(\"campaign\").count()"
   ]
  },
  {
   "cell_type": "code",
   "execution_count": null,
   "id": "7e6ce10d",
   "metadata": {},
   "outputs": [],
   "source": [
    "data.groupby(\"poutcome\").count()"
   ]
  },
  {
   "cell_type": "code",
   "execution_count": null,
   "id": "2a5b8be1",
   "metadata": {},
   "outputs": [],
   "source": [
    "data.groupby(\"y\").count()"
   ]
  },
  {
   "cell_type": "code",
   "execution_count": null,
   "id": "bd5c7b7e",
   "metadata": {},
   "outputs": [],
   "source": [
    "df[df[\"poutcome\"] == 'success'].filter(df[df[\"y\"] == 'yes'])"
   ]
  },
  {
   "cell_type": "code",
   "execution_count": null,
   "id": "bc616412",
   "metadata": {},
   "outputs": [],
   "source": [
    "df[df[\"poutcome\"] == 'unknown'].filter(df[df[\"y\"] == 'yes'])"
   ]
  },
  {
   "cell_type": "code",
   "execution_count": null,
   "id": "7b47f7d2",
   "metadata": {},
   "outputs": [],
   "source": [
    "df[df[\"poutcome\"] == 'failure'].filter(df[df[\"y\"] == 'yes'])"
   ]
  },
  {
   "cell_type": "code",
   "execution_count": null,
   "id": "3c186d65",
   "metadata": {},
   "outputs": [],
   "source": [
    "sns.set(style=\"ticks\")\n",
    "sns.pairplot(df)\n",
    "plt.show()"
   ]
  },
  {
   "cell_type": "code",
   "execution_count": null,
   "id": "5ab62622",
   "metadata": {},
   "outputs": [],
   "source": [
    "f, ax = plt.subplots(figsize = (15,8)) \n",
    "sns.barplot(data=df, x=\"job\", y = \"y\", palette=\"winter_r\")\n",
    "sns.despine(left = True, bottom = True)\n",
    "ax.set(xlabel='job', ylabel='y')"
   ]
  },
  {
   "cell_type": "code",
   "execution_count": null,
   "id": "bcbddc34",
   "metadata": {},
   "outputs": [],
   "source": [
    "f, ax = plt.subplots(figsize = (15,8)) \n",
    "sns.barplot(x=\"marital\", y = \"y\", data = df, palette=\"winter_r\")\n",
    "sns.despine(left = True, bottom = True)\n",
    "ax.set(xlabel='marital', ylabel='y')"
   ]
  },
  {
   "cell_type": "code",
   "execution_count": null,
   "id": "aa7b360a",
   "metadata": {},
   "outputs": [],
   "source": [
    "f, ax = plt.subplots(figsize = (15,8)) \n",
    "sns.barplot(x=\"education\", y = \"y\", data = df, palette=\"winter_r\")\n",
    "sns.despine(left = True, bottom = True)\n",
    "ax.set(xlabel='education', ylabel='y')"
   ]
  },
  {
   "cell_type": "code",
   "execution_count": null,
   "id": "129f7426",
   "metadata": {},
   "outputs": [],
   "source": [
    "colors = sns.color_palette('pastel')[0:5]\n",
    "f, ax = plt.subplots(figsize = (15,8)) \n",
    "sns.barplot(x=\"housing\", y = \"y\", data = df, palette=\"winter_r\")\n",
    "sns.despine(left = True, bottom = True)\n",
    "ax.set(xlabel='housing', ylabel='y')"
   ]
  },
  {
   "cell_type": "markdown",
   "id": "7a96f40f",
   "metadata": {},
   "source": [
    "### Further exploration"
   ]
  },
  {
   "cell_type": "code",
   "execution_count": null,
   "id": "81e8c14d",
   "metadata": {},
   "outputs": [],
   "source": [
    "f, ax = plt.subplots(figsize = (15,8)) \n",
    "sns.countplot(x=\"y\", data=df, palette=\"winter_r\")\n",
    "sns.despine(left = True, bottom = True)\n",
    "plt.show()"
   ]
  },
  {
   "cell_type": "code",
   "execution_count": null,
   "id": "c5bfd64d",
   "metadata": {},
   "outputs": [],
   "source": [
    "f, ax = plt.subplots(figsize = (15,8)) \n",
    "sns.countplot(x=\"loan\", data=df, palette=\"winter_r\")\n",
    "sns.despine(left = True, bottom = True)\n",
    "plt.show()"
   ]
  },
  {
   "cell_type": "code",
   "execution_count": null,
   "id": "a0666757",
   "metadata": {},
   "outputs": [],
   "source": [
    "countNoLoan = len(df[df.y == 0])\n",
    "countHaveLoan = len(df[df.y == 1])\n",
    "print(\"\\nPercentage of Customer can't have a loan: {:.2f}%\".format((countNoLoan / (len(df.y))*100)))\n",
    "print(\"Percentage of Customer can have a loan: {:.2f}%\\n\".format((countHaveLoan / (len(df.y))*100)))"
   ]
  },
  {
   "cell_type": "code",
   "execution_count": null,
   "id": "02c8eb16",
   "metadata": {},
   "outputs": [],
   "source": [
    "df.groupby('y').mean()"
   ]
  },
  {
   "cell_type": "code",
   "execution_count": null,
   "id": "1e565331",
   "metadata": {},
   "outputs": [],
   "source": [
    "colors = sns.color_palette('winter_r')[0:5]\n",
    "pd.crosstab(df.age,df.y).plot(kind=\"bar\",figsize=(20,6), color = colors)\n",
    "plt.title('Subscribed to Term Deposit based on Age')\n",
    "plt.xlabel('Age')\n",
    "plt.ylabel('Subsctibed')\n",
    "plt.show()"
   ]
  },
  {
   "cell_type": "markdown",
   "id": "8ea06bc8",
   "metadata": {},
   "source": [
    "From age 25-60, consumers tend to subscribe to the term deposit campaign reqest."
   ]
  },
  {
   "cell_type": "code",
   "execution_count": null,
   "id": "f9e599ac",
   "metadata": {},
   "outputs": [],
   "source": [
    "colors = sns.color_palette('winter_r')[0:5]\n",
    "pd.crosstab(df.housing, df.y).plot(kind=\"bar\", figsize=(15,6), color=colors)\n",
    "plt.title('client subscribed to term deposit who do or not have Housing loans')\n",
    "plt.xlabel('housing (\"no\" = No Housing Loan , \"yes\" = Have housing loan)')\n",
    "plt.xticks(rotation=0)\n",
    "plt.legend([\"No Housing Loan\", \"Have housing loan\"])\n",
    "plt.ylabel('Subscribed')\n",
    "plt.show()"
   ]
  },
  {
   "cell_type": "code",
   "execution_count": null,
   "id": "73e6f7df",
   "metadata": {},
   "outputs": [],
   "source": [
    "f, ax = plt.subplots(figsize = (15,8)) \n",
    "plt.scatter(x=df.job[df.y== 1], y=df.campaign[(df.y== 1)], c=\"magenta\")\n",
    "plt.scatter(x=df.job[df.y== 0], y=df.campaign[(df.y== 0)])\n",
    "plt.title('Client contacted based on their education')\n",
    "plt.legend([\"Contacted\", \"Not Contacted\"])\n",
    "plt.xlabel(\"Job\")\n",
    "plt.ylabel(\"Campaign\")\n",
    "plt.show()"
   ]
  },
  {
   "cell_type": "code",
   "execution_count": null,
   "id": "f294cd1a",
   "metadata": {},
   "outputs": [],
   "source": [
    "f, ax = plt.subplots(figsize = (15,8)) \n",
    "plt.scatter(x=df.marital[df.y== 1], y=df.campaign[(df.y== 1)], c=\"magenta\")\n",
    "plt.scatter(x=df.marital[df.y== 0], y=df.campaign[(df.y== 0)])\n",
    "plt.title('client contacted based on their marital status')\n",
    "plt.legend([\"Contacted\", \"Not Contacted\"])\n",
    "plt.xlabel(\"Marital\")\n",
    "plt.ylabel(\"Campaign\")\n",
    "plt.show()"
   ]
  },
  {
   "cell_type": "code",
   "execution_count": null,
   "id": "0b6d793a",
   "metadata": {},
   "outputs": [],
   "source": [
    "f, ax = plt.subplots(figsize = (15,8)) \n",
    "plt.scatter(x=df.job[df.y== 1], y=df.pdays[(df.y== 1)], c=\"magenta\")\n",
    "plt.scatter(x=df.job[df.y== 0], y=df.pdays[(df.y== 0)])\n",
    "plt.title('# of Days passed from the last contct with clients based on job')\n",
    "plt.legend([\"Contacted\", \"Not Contacted\"])\n",
    "plt.xlabel(\"Job\")\n",
    "plt.ylabel(\"# of Days passed\")\n",
    "plt.show()"
   ]
  },
  {
   "cell_type": "code",
   "execution_count": null,
   "id": "0a1e54c4",
   "metadata": {},
   "outputs": [],
   "source": [
    "f, ax = plt.subplots(figsize = (15,8)) \n",
    "plt.scatter(x=df.age[df.y== 1], y=df.pdays[(df.y== 1)], c=\"magenta\")\n",
    "plt.scatter(x=df.age[df.y== 0], y=df.pdays[(df.y== 0)])\n",
    "plt.title('# of Days passed from the last contct with clients based on age')\n",
    "plt.legend([\"Contacted\", \"Not Contacted\"])\n",
    "plt.xlabel(\"Age\")\n",
    "plt.ylabel(\"# of Days passed\")\n",
    "plt.show()"
   ]
  },
  {
   "cell_type": "code",
   "execution_count": null,
   "id": "0cdccf7c",
   "metadata": {},
   "outputs": [],
   "source": [
    "f, ax = plt.subplots(figsize = (15,8)) \n",
    "plt.scatter(x=df.age[df.y== 1], y=df.previous[(df.y== 1)], c=\"magenta\")\n",
    "plt.scatter(x=df.age[df.y== 0], y=df.previous[(df.y== 0)])\n",
    "plt.title('# of contct performed before this campaign with clients based on age')\n",
    "plt.legend([\"Contacted\", \"Not Contacted\"])\n",
    "plt.xlabel(\"Age\")\n",
    "plt.ylabel(\"# of Days passed\")\n",
    "plt.show()"
   ]
  },
  {
   "cell_type": "code",
   "execution_count": null,
   "id": "82386079",
   "metadata": {},
   "outputs": [],
   "source": [
    "f, ax = plt.subplots(figsize = (15,8)) \n",
    "plt.scatter(x=df.poutcome[df.y== 1], y=df.previous[(df.y== 1)], c=\"magenta\")\n",
    "plt.scatter(x=df.poutcome[df.y== 0], y=df.previous[(df.y== 0)])\n",
    "plt.title('Outcome of previous campaign')\n",
    "plt.legend([\"Subsctibed\", \"Not Subscribed\"])\n",
    "plt.xlabel(\"Outcome\")\n",
    "plt.ylabel(\"Previous Subscription Status\")\n",
    "plt.show()"
   ]
  },
  {
   "cell_type": "code",
   "execution_count": null,
   "id": "96cf277e",
   "metadata": {},
   "outputs": [],
   "source": [
    "f, ax = plt.subplots(figsize = (15,8)) \n",
    "plt.scatter(x=df.contact[df.y== 1], y=df.previous[(df.y== 1)], c=\"magenta\")\n",
    "plt.scatter(x=df.contact[df.y== 0], y=df.previous[(df.y== 0)])\n",
    "plt.title('Contact method during previous campaign')\n",
    "plt.legend([\"Subsctibed\", \"Not Subscribed\"])\n",
    "plt.xlabel(\"Contact Method\")\n",
    "plt.ylabel(\"Previous Subscription Status\")\n",
    "plt.show()"
   ]
  },
  {
   "cell_type": "code",
   "execution_count": null,
   "id": "30cec6f0",
   "metadata": {},
   "outputs": [],
   "source": [
    "# writing the curated copy of the data\n",
    "df.to_csv('data/bank_curated_data.csv', sep=';')"
   ]
  },
  {
   "cell_type": "code",
   "execution_count": null,
   "id": "199f715d",
   "metadata": {},
   "outputs": [],
   "source": [
    "df"
   ]
  }
 ],
 "metadata": {
  "kernelspec": {
   "display_name": "Python 3 (ipykernel)",
   "language": "python",
   "name": "python3"
  },
  "language_info": {
   "codemirror_mode": {
    "name": "ipython",
    "version": 3
   },
   "file_extension": ".py",
   "mimetype": "text/x-python",
   "name": "python",
   "nbconvert_exporter": "python",
   "pygments_lexer": "ipython3",
   "version": "3.9.7"
  }
 },
 "nbformat": 4,
 "nbformat_minor": 5
}
